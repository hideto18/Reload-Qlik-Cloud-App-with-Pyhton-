{
 "cells": [
  {
   "cell_type": "code",
   "execution_count": 1,
   "metadata": {},
   "outputs": [],
   "source": [
    "#Import bibliotecas\n",
    "from qsaas.qsaas import Tenant\n",
    "import json\n",
    "import time"
   ]
  },
  {
   "cell_type": "code",
   "execution_count": 2,
   "metadata": {},
   "outputs": [],
   "source": [
    "#variaveis\n",
    "chave_qlik='chave qlik'\n",
    "usuario_id='id usuario qlik'\n",
    "url_qlik='url qlik'\n",
    "app_id='id aplicação'"
   ]
  },
  {
   "cell_type": "code",
   "execution_count": 3,
   "metadata": {},
   "outputs": [],
   "source": [
    "#Conectar Qlik\n",
    "q = Tenant(api_key=chave_qlik, tenant=url_qlik, tenant_id=usuario_id)"
   ]
  },
  {
   "cell_type": "code",
   "execution_count": 4,
   "metadata": {},
   "outputs": [],
   "source": [
    "#reload a cada 10 minutos\n",
    "while(True):\n",
    "    reload = q.post('reloads', json.dumps({\"appId\": app_id}))\n",
    "    time.sleep(631)\n"
   ]
  },
  {
   "cell_type": "code",
   "execution_count": null,
   "metadata": {},
   "outputs": [],
   "source": []
  }
 ],
 "metadata": {
  "kernelspec": {
   "display_name": "Python 3.10.6 64-bit (microsoft store)",
   "language": "python",
   "name": "python3"
  },
  "language_info": {
   "codemirror_mode": {
    "name": "ipython",
    "version": 3
   },
   "file_extension": ".py",
   "mimetype": "text/x-python",
   "name": "python",
   "nbconvert_exporter": "python",
   "pygments_lexer": "ipython3",
   "version": "3.10.8"
  },
  "orig_nbformat": 4,
  "vscode": {
   "interpreter": {
    "hash": "a21b2661ee5a8a7ae16c5b0530405e2932f098300f7c52745890dd4ced3ae862"
   }
  }
 },
 "nbformat": 4,
 "nbformat_minor": 2
}
